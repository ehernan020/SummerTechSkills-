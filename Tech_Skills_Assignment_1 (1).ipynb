{
  "nbformat": 4,
  "nbformat_minor": 0,
  "metadata": {
    "kernelspec": {
      "display_name": "Python 3",
      "language": "python",
      "name": "python3"
    },
    "language_info": {
      "codemirror_mode": {
        "name": "ipython",
        "version": 3
      },
      "file_extension": ".py",
      "mimetype": "text/x-python",
      "name": "python",
      "nbconvert_exporter": "python",
      "pygments_lexer": "ipython3",
      "version": "3.7.0"
    },
    "colab": {
      "name": "Tech Skills Assignment 1.ipynb",
      "provenance": []
    }
  },
  "cells": [
    {
      "cell_type": "markdown",
      "metadata": {
        "id": "zb8vYG6hHOdB",
        "colab_type": "text"
      },
      "source": [
        "**1.**\n",
        "The radius of a circle is 5.5. Write a script to compute the area of a circle."
      ]
    },
    {
      "cell_type": "code",
      "metadata": {
        "id": "Aq4XoYLGi4fu",
        "colab_type": "code",
        "colab": {
          "base_uri": "https://localhost:8080/",
          "height": 51
        },
        "outputId": "1da2ad03-886c-4c6f-8320-8eef509adb31"
      },
      "source": [
        "pi = 3.14\n",
        "r = 5.5\n",
        "print(r**2*pi)\n",
        "area = 94.985\n",
        "print(\"The area of a circle with a radius of\", r, \"is\", area)"
      ],
      "execution_count": 38,
      "outputs": [
        {
          "output_type": "stream",
          "text": [
            "94.985\n",
            "The area of a circle with a radius of 5.5 is 94.985\n"
          ],
          "name": "stdout"
        }
      ]
    },
    {
      "cell_type": "markdown",
      "metadata": {
        "id": "D2ocTUrDHOdJ",
        "colab_type": "text"
      },
      "source": [
        "**2.**\n",
        "Write a program where Python prints your name, then print them in reverse order with a comma between them.  Put this in the same cell.    \n",
        "\n",
        "For example:\n",
        "\n",
        "Sophia Barrett    \n",
        "Barrett, Sophia"
      ]
    },
    {
      "cell_type": "code",
      "metadata": {
        "id": "dGQr8YHoLIEA",
        "colab_type": "code",
        "colab": {
          "base_uri": "https://localhost:8080/",
          "height": 51
        },
        "outputId": "8ad99077-c5ae-4e9e-9b8c-69b480936666"
      },
      "source": [
        "print(\"Esther Hernandez\")\n",
        "print(\"Hernandez, Esther\")"
      ],
      "execution_count": 10,
      "outputs": [
        {
          "output_type": "stream",
          "text": [
            "Esther Hernandez\n",
            "Hernandez, Esther\n"
          ],
          "name": "stdout"
        }
      ]
    },
    {
      "cell_type": "markdown",
      "metadata": {
        "id": "WaiCKT3UHOdN",
        "colab_type": "text"
      },
      "source": [
        "**3.**  Write a program to test if a number is divisible by 5."
      ]
    },
    {
      "cell_type": "code",
      "metadata": {
        "id": "F0nyukbGLkA_",
        "colab_type": "code",
        "colab": {
          "base_uri": "https://localhost:8080/",
          "height": 34
        },
        "outputId": "fa015a67-9eaa-479a-f3fb-ec87c8c07ac8"
      },
      "source": [
        "135%5  # no remander means the number is divisible by 5"
      ],
      "execution_count": 13,
      "outputs": [
        {
          "output_type": "execute_result",
          "data": {
            "text/plain": [
              "0"
            ]
          },
          "metadata": {
            "tags": []
          },
          "execution_count": 13
        }
      ]
    },
    {
      "cell_type": "markdown",
      "metadata": {
        "id": "PkNimZBDHOdS",
        "colab_type": "text"
      },
      "source": [
        "**4.**  What is the output of the following program?  \n",
        "\n",
        "a = 1  \n",
        "b = a * 2  \n",
        "c = 2 * b + 1  \n",
        "print(a)  \n",
        "print(b)  \n",
        "print(c)  "
      ]
    },
    {
      "cell_type": "code",
      "metadata": {
        "id": "WyBaf3dkNbnY",
        "colab_type": "code",
        "colab": {}
      },
      "source": [
        "1\n",
        "2\n",
        "5"
      ],
      "execution_count": 0,
      "outputs": []
    },
    {
      "cell_type": "markdown",
      "metadata": {
        "id": "0qPIzVNzHOdb",
        "colab_type": "text"
      },
      "source": [
        "**5.**  What is the output of the following program?  \n",
        "\n",
        "a = 2  \n",
        "b = a * 2  \n",
        "c = b ** a  \n",
        "a = c % 2  \n",
        "print(a)  \n",
        "print(b)  \n",
        "print(c)  "
      ]
    },
    {
      "cell_type": "code",
      "metadata": {
        "id": "Ge6mBDjoPEFB",
        "colab_type": "code",
        "colab": {}
      },
      "source": [
        "2\n",
        "4\n",
        "16\n",
        "0"
      ],
      "execution_count": 0,
      "outputs": []
    },
    {
      "cell_type": "markdown",
      "metadata": {
        "id": "hOxV6YelHOdg",
        "colab_type": "text"
      },
      "source": [
        "**6.**    What is the output of the following program?  \n",
        "\n",
        "a = 5  \n",
        "b = a // 2  \n",
        "c = a / 2  \n",
        "a = a % 2  \n",
        "print(a)  \n",
        "print(b)  \n",
        "print(c)  "
      ]
    },
    {
      "cell_type": "code",
      "metadata": {
        "id": "acYuN1tvPIJZ",
        "colab_type": "code",
        "colab": {
          "base_uri": "https://localhost:8080/",
          "height": 85
        },
        "outputId": "6b9e512c-a103-4bd2-fb8e-32f845c2ff81"
      },
      "source": [
        "print(5)\n",
        "print(5//2)\n",
        "print(5/2)\n",
        "print(5%2)"
      ],
      "execution_count": 17,
      "outputs": [
        {
          "output_type": "stream",
          "text": [
            "5\n",
            "2\n",
            "2.5\n",
            "1\n"
          ],
          "name": "stdout"
        }
      ]
    },
    {
      "cell_type": "markdown",
      "metadata": {
        "id": "s4p84n32HOdj",
        "colab_type": "text"
      },
      "source": [
        "**7.**  Type each of the following commands.  Note each response.    \n",
        "print(\"Hello, world!\")    \n",
        "print(\"Hello\", \"world!\")  \n",
        "print(3)  \n",
        "print(3.0)  \n",
        "print(2 + 3)  \n",
        "print(2.0 + 3.0)  \n",
        "print(2 * 3)  \n",
        "print(2 ** 3)\n",
        "print(7 / 3)  \n",
        "print(7 // 3)  "
      ]
    },
    {
      "cell_type": "code",
      "metadata": {
        "id": "Enl4rJs2VEKJ",
        "colab_type": "code",
        "colab": {}
      },
      "source": [
        "print(\"Hello, world!\")"
      ],
      "execution_count": 0,
      "outputs": []
    },
    {
      "cell_type": "markdown",
      "metadata": {
        "id": "V8o0nK3XV0Q6",
        "colab_type": "text"
      },
      "source": [
        "Hello, world!"
      ]
    },
    {
      "cell_type": "code",
      "metadata": {
        "id": "G_N1CjcDV5by",
        "colab_type": "code",
        "colab": {}
      },
      "source": [
        "print(\"Hello\", \"world!\")"
      ],
      "execution_count": 0,
      "outputs": []
    },
    {
      "cell_type": "markdown",
      "metadata": {
        "id": "1h38-zlwWUfY",
        "colab_type": "text"
      },
      "source": [
        "Hello world!"
      ]
    },
    {
      "cell_type": "code",
      "metadata": {
        "id": "9D6LQYv9Waan",
        "colab_type": "code",
        "colab": {}
      },
      "source": [
        "print(3)"
      ],
      "execution_count": 0,
      "outputs": []
    },
    {
      "cell_type": "markdown",
      "metadata": {
        "id": "FO-7wFvDWhmJ",
        "colab_type": "text"
      },
      "source": [
        "3"
      ]
    },
    {
      "cell_type": "code",
      "metadata": {
        "id": "8ZukduBOWlXO",
        "colab_type": "code",
        "colab": {}
      },
      "source": [
        "print(3.0)"
      ],
      "execution_count": 0,
      "outputs": []
    },
    {
      "cell_type": "markdown",
      "metadata": {
        "id": "lSOmmqIwW4pB",
        "colab_type": "text"
      },
      "source": [
        "3.0"
      ]
    },
    {
      "cell_type": "code",
      "metadata": {
        "id": "djCerS26Wlif",
        "colab_type": "code",
        "colab": {}
      },
      "source": [
        "print(2+3)"
      ],
      "execution_count": 0,
      "outputs": []
    },
    {
      "cell_type": "markdown",
      "metadata": {
        "id": "1BvY45IWXDX7",
        "colab_type": "text"
      },
      "source": [
        "5"
      ]
    },
    {
      "cell_type": "code",
      "metadata": {
        "id": "RTuJfqDAXEof",
        "colab_type": "code",
        "colab": {}
      },
      "source": [
        "print(2.0+3.0)"
      ],
      "execution_count": 0,
      "outputs": []
    },
    {
      "cell_type": "markdown",
      "metadata": {
        "id": "HJo76MqAXLQ7",
        "colab_type": "text"
      },
      "source": [
        "5.0"
      ]
    },
    {
      "cell_type": "code",
      "metadata": {
        "id": "WleZ4S3kXMoh",
        "colab_type": "code",
        "colab": {}
      },
      "source": [
        "print(2*3)"
      ],
      "execution_count": 0,
      "outputs": []
    },
    {
      "cell_type": "markdown",
      "metadata": {
        "id": "bb3MFzcZYkTm",
        "colab_type": "text"
      },
      "source": [
        "6"
      ]
    },
    {
      "cell_type": "code",
      "metadata": {
        "id": "2Clw1knTYmhO",
        "colab_type": "code",
        "colab": {}
      },
      "source": [
        "print(2**3)"
      ],
      "execution_count": 0,
      "outputs": []
    },
    {
      "cell_type": "markdown",
      "metadata": {
        "id": "1HVgiIVMYs-G",
        "colab_type": "text"
      },
      "source": [
        "8"
      ]
    },
    {
      "cell_type": "code",
      "metadata": {
        "id": "4NWcgb4sYuK7",
        "colab_type": "code",
        "colab": {}
      },
      "source": [
        "print(7/3)"
      ],
      "execution_count": 0,
      "outputs": []
    },
    {
      "cell_type": "markdown",
      "metadata": {
        "id": "rWFgEVzKY1mX",
        "colab_type": "text"
      },
      "source": [
        "2.3333333333333335"
      ]
    },
    {
      "cell_type": "code",
      "metadata": {
        "id": "JLqjpnrTY49A",
        "colab_type": "code",
        "colab": {}
      },
      "source": [
        "print(7//3)"
      ],
      "execution_count": 0,
      "outputs": []
    },
    {
      "cell_type": "markdown",
      "metadata": {
        "id": "uM5sY1m5ZAkS",
        "colab_type": "text"
      },
      "source": [
        "2"
      ]
    },
    {
      "cell_type": "markdown",
      "metadata": {
        "id": "yAhH8dMzHOdn",
        "colab_type": "text"
      },
      "source": [
        "**8.**\n",
        "\n",
        "Create a program with a name and age.  Then have it print out a message addressed to name that tells them the year that they will turn 100 years old."
      ]
    },
    {
      "cell_type": "code",
      "metadata": {
        "id": "mBeSp3hyZsCs",
        "colab_type": "code",
        "colab": {
          "base_uri": "https://localhost:8080/",
          "height": 34
        },
        "outputId": "f8486faf-3782-474b-93e4-9f20e52fd908"
      },
      "source": [
        "name = \"Esther Hernandez\"\n",
        "age = 28\n",
        "year= 2091\n",
        "print(name, \"is\", age, \"years old\", \"and will turn 100 in\", year,)"
      ],
      "execution_count": 61,
      "outputs": [
        {
          "output_type": "stream",
          "text": [
            "Esther Hernandez is 28 years old and will turn 100 in 2091\n"
          ],
          "name": "stdout"
        }
      ]
    },
    {
      "cell_type": "markdown",
      "metadata": {
        "id": "Fm24qPWDHOdr",
        "colab_type": "text"
      },
      "source": [
        "**9.**  Create a sequence of numbers from 3 to 19, but increment by 2.  "
      ]
    },
    {
      "cell_type": "code",
      "metadata": {
        "id": "U2zb0Zu4f6-7",
        "colab_type": "code",
        "colab": {
          "base_uri": "https://localhost:8080/",
          "height": 34
        },
        "outputId": "82ec7000-5f21-4f01-cf46-30b449246277"
      },
      "source": [
        "list(range(3,21,2))"
      ],
      "execution_count": 36,
      "outputs": [
        {
          "output_type": "execute_result",
          "data": {
            "text/plain": [
              "[3, 5, 7, 9, 11, 13, 15, 17, 19]"
            ]
          },
          "metadata": {
            "tags": []
          },
          "execution_count": 36
        }
      ]
    },
    {
      "cell_type": "markdown",
      "metadata": {
        "id": "CrZ-RuOyHOdu",
        "colab_type": "text"
      },
      "source": [
        "**10.**  Try to solve this problem on your own first, then check your results with python.    \n",
        "  \n",
        "  \n",
        "a = 21\n",
        "b = 10\n",
        "c = 0\n",
        "\n",
        "c = a + b\n",
        "print \"Line 1 - Value of c is \", c\n",
        "\n",
        "c += a\n",
        "print \"Line 2 - Value of c is \", c \n",
        "\n",
        "c *= a\n",
        "print \"Line 3 - Value of c is \", c \n",
        "\n",
        "c /= a \n",
        "print \"Line 4 - Value of c is \", c \n",
        "\n",
        "c  = 2\n",
        "c %= a\n",
        "print \"Line 5 - Value of c is \", c\n",
        "\n",
        "c **= a\n",
        "print \"Line 6 - Value of c is \", c\n",
        "\n",
        "c //= a\n",
        "print \"Line 7 - Value of c is \", c"
      ]
    },
    {
      "cell_type": "code",
      "metadata": {
        "id": "ge8h4UbJHOd1",
        "colab_type": "code",
        "colab": {
          "base_uri": "https://localhost:8080/",
          "height": 136
        },
        "outputId": "6b056ae2-5246-47cc-de3f-6027af47964c"
      },
      "source": [
        "a = 21\n",
        "b = 10\n",
        "c = 0\n",
        "\n",
        "c = 21+10\n",
        "print(\"21 + 10 - 0 is\",c)\n",
        "c+=a\n",
        "print(\"31 += 21 - 0 is\",c)\n",
        "c*=a\n",
        "print(\"52 *= 21 - 0 is\", c)\n",
        "c/=a\n",
        "print(\"1092 /= 21 - 0 is\", c)\n",
        "c=2\n",
        "c%=a\n",
        "print(\"2 %= 21 - 0 is\", c)\n",
        "c**=a\n",
        "print(\"2 **= 21 - 0 is\",c)\n",
        "c//=a\n",
        "print(\"2097152 //= 21 - 0 is\", c )\n"
      ],
      "execution_count": 59,
      "outputs": [
        {
          "output_type": "stream",
          "text": [
            "21 + 10 - 0 is 31\n",
            "31 += 21 - 0 is 52\n",
            "52 *= 21 - 0 is 1092\n",
            "1092 /= 21 - 0 is 52.0\n",
            "2 %= 21 - 0 is 2\n",
            "2 **= 21 - 0 is 2097152\n",
            "2097152 //= 21 - 0 is 99864\n"
          ],
          "name": "stdout"
        }
      ]
    }
  ]
}